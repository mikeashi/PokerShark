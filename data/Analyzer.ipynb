{
 "cells": [
  {
   "cell_type": "code",
   "execution_count": 13,
   "id": "76e8b06c-4d23-472e-84f1-9cfb8eb99285",
   "metadata": {},
   "outputs": [
    {
     "name": "stdout",
     "output_type": "stream",
     "text": [
      "Fold : 75.38697318007664\n",
      "Call: 13.517241379310343\n",
      "raise: 11.095785440613026\n"
     ]
    }
   ],
   "source": [
    "# file name\n",
    "file = 'preflop.csv'\n",
    "\n",
    "\n",
    "# analyzer\n",
    "import pandas as pd\n",
    "df = pd.read_csv(file, header = None)\n",
    "\n",
    "print(\"Fold :\", (len(df.loc[df[0] == 'fold'])/len(df[0])) * 100)\n",
    "print(\"Call:\" , (len(df.loc[df[0] == 'call'])/len(df[0]))*100)\n",
    "print(\"raise:\" , (len(df.loc[df[0] == 'raise'])/len(df[0]))*100)"
   ]
  },
  {
   "cell_type": "code",
   "execution_count": null,
   "id": "39198730-31d6-4175-8d41-d55965cf71ba",
   "metadata": {},
   "outputs": [],
   "source": []
  }
 ],
 "metadata": {
  "kernelspec": {
   "display_name": "Python 3 (ipykernel)",
   "language": "python",
   "name": "python3"
  },
  "language_info": {
   "codemirror_mode": {
    "name": "ipython",
    "version": 3
   },
   "file_extension": ".py",
   "mimetype": "text/x-python",
   "name": "python",
   "nbconvert_exporter": "python",
   "pygments_lexer": "ipython3",
   "version": "3.10.6"
  }
 },
 "nbformat": 4,
 "nbformat_minor": 5
}
